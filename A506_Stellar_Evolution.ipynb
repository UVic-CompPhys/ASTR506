{
 "cells": [
  {
   "cell_type": "code",
   "execution_count": 1,
   "metadata": {
    "slideshow": {
     "slide_type": "skip"
    }
   },
   "outputs": [],
   "source": [
    "from IPython.display import Image, HTML, display"
   ]
  },
  {
   "cell_type": "markdown",
   "metadata": {
    "slideshow": {
     "slide_type": "slide"
    }
   },
   "source": [
    "<center> \n",
    "<h1> ASTR 506 </h1>\n",
    "<h2> Stellar Populations: Stellar Evolution </h2>\n",
    "</center>"
   ]
  },
  {
   "cell_type": "markdown",
   "metadata": {
    "slideshow": {
     "slide_type": "slide"
    }
   },
   "source": [
    "<h4><center>The partial differential equations (PDEs) of stellar structure and evolution are</center></h4>\n",
    "\n",
    "\n",
    "$$\n",
    "\\frac{\\partial P}{\\partial r} = -g\\rho = -\\frac{GM_r}{r^2}\\rho\\ \\mathrm{\\it(equation\\ of\\ hydrostatic\\ equilibrium)},\\\\\n",
    "\\frac{\\partial M_r}{\\partial r} = 4\\pi r^2\\rho\\ \\mathrm{\\it(mass\\ conservation\\ equation)},\\\\\n",
    "\\frac{\\partial T}{\\partial r} = \\frac{T}{P}\\frac{\\partial P}{\\partial r}\\nabla\\ \\mathrm{\\it(temperature\\ equation)},\\ \\\\ \\mathrm{and}\\\\\n",
    "\\frac{\\partial L_r}{\\partial r} = \\frac{\\partial L_r}{\\partial M_r}\\frac{\\partial M_r}{\\partial r}\\ \\mathrm{\\it(energy\\ conservation\\ equation)},\\\\\n",
    "\\\\ \\mathrm{where}\\\\ \n",
    "\\frac{\\partial L_r}{\\partial M_r} = \\varepsilon_\\mathrm{n} + \\varepsilon_\\mathrm{g} -\n",
    "\\varepsilon_\\nu.\n",
    "$$\n",
    "\n",
    "In these equations, $P$ is the pressure, $r$ is the distance from the center to the surface of a sphere of\n",
    "mass $M_r$ and luminosity $L_r$, $\\rho$ is the density, $G$ is Newton's gravitational constant, $g$ is the gravitational acceleration, $\\varepsilon_\\mathrm{n}$, $\\varepsilon_\\mathrm{g}$ and $\\varepsilon_\\nu$ are the rates (per unit mass) of energy generation or loss\n",
    "due to nuclear reactions (n), gravitational contraction or expansion (g), and neutrino production ($\\nu$), respectively."
   ]
  },
  {
   "cell_type": "markdown",
   "metadata": {
    "slideshow": {
     "slide_type": "slide"
    }
   },
   "source": [
    "The temperature gradient $\\frac{\\partial T}{\\partial r}$ depends on how fast heat is transported by radiation and convection, which is determined by $\\nabla = \\frac{d\\ln P}{d\\ln T}$. \n",
    "\n",
    "For an efficient (non-leaky) convective heat transport deep inside a star, \n",
    "$\\nabla = \\nabla_\\mathrm{ad} = \\left(\\frac{\\partial\\ln P}{\\partial\\ln T}\\right)_S$.\n",
    "\n",
    "For radiative heat transport,\n",
    "$$\n",
    "\\nabla = \\nabla_\\mathrm{rad} = \\frac{3\\varkappa}{16\\pi G a c}\\frac{L_r}{M_r}\\frac{P}{T^4},\n",
    "$$\n",
    "\n",
    "where $a$ is the radiation constant and $\\varkappa$ is the Rosseland mean opacity of stellar material.\n",
    "\n",
    "The gravitational energy rate is\n",
    "$$\n",
    "\\varepsilon_\\mathrm{g} = -\\frac{\\partial Q}{\\partial t} = -\\frac{\\partial U}{\\partial t} + \\frac{P}{\\rho^2}\\frac{\\partial\\rho}{\\partial t} =\n",
    "-C_P\\left(\\frac{\\partial T}{\\partial t} - \\nabla_\\mathrm{ad}\\frac{T}{P}\\frac{\\partial P}{\\partial t}\\right),\n",
    "$$\n",
    "\n",
    "where $U$ is the inernal (thermal) energy per unit mass and $C_P$ is the specific (per unit mass) heat at constant pressure.\n",
    "\n",
    "$P$, $U$, $C_P$, $\\nabla_\\mathrm{ad}$, $\\varkappa$, $\\varepsilon_\\mathrm{n}$ and $\\varepsilon_\\nu$ are all provided as functions of $T$, $\\rho$ and chemical composition $(X,Y,Z)$ by the so-called ''input physics'' data. "
   ]
  },
  {
   "cell_type": "markdown",
   "metadata": {
    "slideshow": {
     "slide_type": "slide"
    }
   },
   "source": [
    "<h4><center>The protosolar chemical composition (from Asplund et al. ARAA, 2009, 47, 481) of</center></h4>\n",
    "\n",
    "Anders & Grevesse (1989): $Z=0.0213$, $Y=0.2691$\n",
    "\n",
    "Grevesse and Noels (1993): $Z=0.0190$, $Y=0.2697$\n",
    "\n",
    "Grevesse and Sauval (1998): $Z=0.0180$, $ Y=0.2701$\n",
    "\n",
    "Lodders (2003): $Z=0.0149$, $Y=0.2741$\n",
    "\n",
    "Asplund, Grevesse, and Sauval (2005): $Z=0.0130$, $Y=0.2704$\n",
    "\n",
    "Asplund, Grevesse, Sauval, and Scott (2009): $Z=0.0142$, $Y=0.2703$\n",
    "\n",
    "Lodders, Palme, and Gail 2009 (L09): $Z=0.0153$, $Y=0.2735$"
   ]
  },
  {
   "cell_type": "markdown",
   "metadata": {
    "slideshow": {
     "slide_type": "slide"
    }
   },
   "source": [
    "<center>\n",
    "<h4> The initial mass function (IMF)</h4>\n",
    "</center>\n",
    "\n",
    "The IMF $\\varphi(m)$ gives a number of stars\n",
    "$$\n",
    "dn(m) = \\varphi(m)dm\n",
    "$$\n",
    "\n",
    "with initial masses (in solar units, i.e. $m = M/M_\\odot$, \n",
    "where $M_\\odot = 1.989\\times 10^{33}$ g) in the interval $[m,m+dm]$ that are present in a given SP. \n",
    "\n",
    "The most popular IMFs that can be used for simple estimates are\n",
    "* the Salpeter IMF: $\\varphi(m) = Am^{-\\alpha}$, where $\\alpha = 2.35$, and\n",
    "\n",
    "* the Kroupa IMF: $\\varphi(m) = Am^{-\\alpha}$, where $\\alpha = 2.3$ for $m>0.5$ and $\\alpha = 1.3$ for $m<0.5$.\n",
    "\n",
    "The lower and upper mass limits are usually assumed to be $m_\\mathrm{low} = 0.1$ and $m_\\mathrm{up} = 100$.\n",
    "\n",
    "If $N$ is the total number of stars in the SP then the normalization constant in the IMF is determined from\n",
    "the requirement that\n",
    "\n",
    "$$\n",
    "N = A\\int_{m_\\mathrm{low}}^{m_\\mathrm{up}}m^{-\\alpha}dm.\n",
    "$$"
   ]
  },
  {
   "cell_type": "markdown",
   "metadata": {
    "slideshow": {
     "slide_type": "slide"
    }
   },
   "source": [
    "<center>\n",
    "<h4>Pre-Main Sequence (pre-MS) evolution of low-mass stars</h4>    \n",
    "<img src=\"img/preMS.jpg\", width=600>\n",
    "</center>"
   ]
  },
  {
   "cell_type": "markdown",
   "metadata": {
    "slideshow": {
     "slide_type": "slide"
    }
   },
   "source": [
    "<center>\n",
    "<h4>MS evolution of low-mass stars and MS turn-off (MSTO)</h4>    \n",
    "<img src=\"img/lowmassMS.jpg\", width=600>\n",
    "</center>"
   ]
  },
  {
   "cell_type": "markdown",
   "metadata": {
    "slideshow": {
     "slide_type": "slide"
    }
   },
   "source": [
    "<center>\n",
    "<h4>MS and red giant branch (RGB) evolution of low-mass stars</h4>    \n",
    "<img src=\"img/MSandRGB.jpg\", width=600>\n",
    "</center>"
   ]
  },
  {
   "cell_type": "markdown",
   "metadata": {
    "slideshow": {
     "slide_type": "slide"
    }
   },
   "source": [
    "<center>\n",
    "<h4>MS evolution of intermediate-mass stars</h4>    \n",
    "<img src=\"img/intmassMS.jpg\", width=600>\n",
    "</center>"
   ]
  },
  {
   "cell_type": "markdown",
   "metadata": {
    "slideshow": {
     "slide_type": "slide"
    }
   },
   "source": [
    "<center>\n",
    "<h4>H and He core burning evolution of intermediate-mass stars</h4>    \n",
    "<img src=\"img/intmass.jpg\", width=600>\n",
    "</center>"
   ]
  },
  {
   "cell_type": "markdown",
   "metadata": {
    "slideshow": {
     "slide_type": "slide"
    }
   },
   "source": [
    "<center>    \n",
    "<img src=\"img/tableMS.jpg\", width=600>\n",
    "</center>"
   ]
  },
  {
   "cell_type": "markdown",
   "metadata": {
    "slideshow": {
     "slide_type": "slide"
    }
   },
   "source": [
    "<center>\n",
    "<h4>Mass-luminosity relation for MS stars</h4>\n",
    "<img src=\"img/MLrelation.png\", width=600>\n",
    "</center>\n",
    "\n",
    "If $L\\propto M^n$ then the nuclear (MS core H burning) timescale is\n",
    "$$\n",
    "\\tau_\\mathrm{n} \\approx 10\\frac{(M/M_\\odot)}{(L/L_\\odot)} = 10\\left(\\frac{M}{M_\\odot}\\right)^{(1-n)}\\ \\mathrm{(Gyr)}.\n",
    "$$\n",
    "\n",
    "For $n\\approx 4$, this gives $\\tau_\\mathrm{n}\\approx 10$ Gyr for $M=M_\\odot$, but\n",
    "$\\tau_\\mathrm{n}\\approx 10$ Myr for $M=10M_\\odot$."
   ]
  },
  {
   "cell_type": "markdown",
   "metadata": {
    "slideshow": {
     "slide_type": "slide"
    }
   },
   "source": [
    "<center>\n",
    "<h4>Main evolutionary phases for low- and intermediate-mass stars</h4>\n",
    "<img src=\"img/tracks.jpg\", width=600>\n",
    "</center>"
   ]
  },
  {
   "cell_type": "markdown",
   "metadata": {
    "slideshow": {
     "slide_type": "slide"
    }
   },
   "source": [
    "<center>\n",
    "<h4>H and He core burning evolution of massive stars</h4>    \n",
    "<img src=\"img/highmass.jpg\", width=600>\n",
    "</center>"
   ]
  },
  {
   "cell_type": "markdown",
   "metadata": {
    "slideshow": {
     "slide_type": "slide"
    }
   },
   "source": [
    "<center> \n",
    "<img src=\"img/highmassTable.jpg\", width=600>\n",
    "</center>"
   ]
  },
  {
   "cell_type": "markdown",
   "metadata": {
    "slideshow": {
     "slide_type": "slide"
    }
   },
   "source": [
    "<center>\n",
    "<h4>The impact of the efficiency of convective energy transport on the evolution of a low-mass star</h4> \n",
    "<img src=\"img/mlt.jpg\", width=600>\n",
    "</center>"
   ]
  },
  {
   "cell_type": "markdown",
   "metadata": {
    "slideshow": {
     "slide_type": "slide"
    }
   },
   "source": [
    "<center>    \n",
    "    <h4>The impact of convective overshooting on the evolution of an intermediate-mass star</h4>\n",
    "<img src=\"img/ovsh.jpg\", width=600>\n",
    "</center>"
   ]
  },
  {
   "cell_type": "markdown",
   "metadata": {
    "slideshow": {
     "slide_type": "slide"
    }
   },
   "source": [
    "<center>    \n",
    "    <h4>The effect of the metallicity on the evolution of an intermediate-mass star</h4>\n",
    "<img src=\"img/ZlowMint.jpg\", width=600>\n",
    "</center>"
   ]
  }
 ],
 "metadata": {
  "anaconda-cloud": {},
  "celltoolbar": "Slideshow",
  "kernelspec": {
   "display_name": "Python 3",
   "language": "python",
   "name": "python3"
  },
  "language_info": {
   "codemirror_mode": {
    "name": "ipython",
    "version": 3
   },
   "file_extension": ".py",
   "mimetype": "text/x-python",
   "name": "python",
   "nbconvert_exporter": "python",
   "pygments_lexer": "ipython3",
   "version": "3.7.2"
  }
 },
 "nbformat": 4,
 "nbformat_minor": 1
}
