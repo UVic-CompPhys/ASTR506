{
 "cells": [
  {
   "cell_type": "code",
   "execution_count": 1,
   "metadata": {
    "slideshow": {
     "slide_type": "skip"
    }
   },
   "outputs": [],
   "source": [
    "from IPython.display import Image, HTML, display"
   ]
  },
  {
   "cell_type": "markdown",
   "metadata": {
    "slideshow": {
     "slide_type": "slide"
    }
   },
   "source": [
    "<center> \n",
    "<h1> ASTR 506 </h1>\n",
    "<h2> Stellar Populations: Old SSPs </h2>\n",
    "</center>"
   ]
  },
  {
   "cell_type": "markdown",
   "metadata": {
    "slideshow": {
     "slide_type": "slide"
    }
   },
   "source": [
    "<center>\n",
    "<img src=\"img/diffagesandZ.jpg\", width=600>\n",
    "</center>"
   ]
  },
  {
   "cell_type": "markdown",
   "metadata": {
    "slideshow": {
     "slide_type": "slide"
    }
   },
   "source": [
    "<center>\n",
    "    <h4>Comparison of 4 Gyr Victoria (blue) and BaSTI (red) isochrones for solar composition</h4>\n",
    "<img src=\"img/VicBaSTIisochrones.png\", width=600>\n",
    "</center>"
   ]
  },
  {
   "cell_type": "markdown",
   "metadata": {
    "slideshow": {
     "slide_type": "slide"
    }
   },
   "source": [
    "<center>\n",
    "    <h4>ZAHB and MSTOs for a fixed chemical composition</h4>\n",
    "<img src=\"img/ZAHBandMSTOs.png\", width=600>\n",
    "</center>"
   ]
  },
  {
   "cell_type": "markdown",
   "metadata": {
    "slideshow": {
     "slide_type": "slide"
    }
   },
   "source": [
    "<center>\n",
    "<img src=\"img/VertHorizMeth.jpg\", width=600>\n",
    "</center>"
   ]
  },
  {
   "cell_type": "markdown",
   "metadata": {
    "slideshow": {
     "slide_type": "slide"
    }
   },
   "source": [
    "<center>\n",
    "<img src=\"img/DVTOZAHB.jpg\", width=800>\n",
    "</center>"
   ]
  },
  {
   "cell_type": "markdown",
   "metadata": {
    "slideshow": {
     "slide_type": "slide"
    }
   },
   "source": [
    "<center>\n",
    "<img src=\"img/StroemgrenAge.jpeg\", width=600>\n",
    "</center>"
   ]
  },
  {
   "cell_type": "markdown",
   "metadata": {
    "slideshow": {
     "slide_type": "slide"
    }
   },
   "source": [
    "<center>\n",
    "<img src=\"img/InitFinWDMass.jpeg\", width=600>\n",
    "</center>"
   ]
  },
  {
   "cell_type": "markdown",
   "metadata": {
    "slideshow": {
     "slide_type": "slide"
    }
   },
   "source": [
    "<center>\n",
    "<img src=\"img/WDisochrones.jpeg\", width=600>\n",
    "</center>"
   ]
  },
  {
   "cell_type": "markdown",
   "metadata": {
    "slideshow": {
     "slide_type": "slide"
    }
   },
   "source": [
    "<center>\n",
    "<img src=\"img/ZAHBmorphology.png\", width=800>\n",
    "</center>"
   ]
  },
  {
   "cell_type": "markdown",
   "metadata": {
    "slideshow": {
     "slide_type": "slide"
    }
   },
   "source": [
    "<center>\n",
    "<img src=\"img/M3HB.png\", width=800>\n",
    "</center>"
   ]
  },
  {
   "cell_type": "markdown",
   "metadata": {
    "slideshow": {
     "slide_type": "slide"
    }
   },
   "source": [
    "<center>\n",
    "<img src=\"img/M13HB.png\", width=800>\n",
    "</center>"
   ]
  },
  {
   "cell_type": "markdown",
   "metadata": {
    "slideshow": {
     "slide_type": "slide"
    }
   },
   "source": [
    "<center>\n",
    "    <h2>Metallicity and reddening estimates</h2>\n",
    "</center>\n",
    "\n",
    "<center>\n",
    "    <h4>Parmeters describing location and shape of RGB</h4>\n",
    "</center>\n",
    "\n",
    "1) Using the slope of RGB from $V_\\mathrm{HB}$ to $V_\\mathrm{HB}-2.5^m$\n",
    "$$\n",
    "S = \\frac{\\Delta V}{\\Delta (V-I)}\\ \\ \\mathrm{(reddening\\ and\\ distance\\ independent).}\n",
    "$$\n",
    "\n",
    "2) $\\Delta V_{1.4} \\equiv V_\\mathrm{HB} - V_\\mathrm{RGB}$, where $V_\\mathrm{RGB}$ is at $(V-I)_0 = 1.4^m$ (dereddened). This parameter needs reddening $E(V-I)$.\n",
    "\n",
    "3,4) $(V-I)_{-3.5}$ and $(V-I)_{-3.0}$ are RGB colors at $M_I = -3.5^m$ and $-3.0^m$. These parameters need reddening and distance.\n",
    "\n",
    "\n",
    "<center>\n",
    "    <h4>Then, for $-2.2\\leq [\\mathrm{Fe/H}]\\leq -0.7$ and $\\alpha$-enhanced mixture the meatllicity\n",
    "    can be estimated as</h4>\n",
    "</center>\n",
    "\n",
    "$$\n",
    "[\\mathrm{Fe/H}] = -0.24\\cdot S +0.28,\\ \\ \\sigma = 0.12\\\\\n",
    "[\\mathrm{Fe/H}] = -0.85\\cdot\\Delta V_{1.4} + 0.77,\\ \\ \\sigma = 0.16\\\\\n",
    "[\\mathrm{Fe/H}] = -2.12\\cdot (V-I)_{-3.5}^2 + 8.81\\cdot (V-I)_{-3.5} - 9.75,\\ \\ \\sigma = 0.15\\\\\n",
    "[\\mathrm{Fe/H}] = -3.34\\cdot (V-I)_{-3.0}^2 + 12.37\\cdot (V-I)_{-3.0} - 11.91,\\ \\ \\sigma = 0.15\n",
    "$$"
   ]
  },
  {
   "cell_type": "markdown",
   "metadata": {
    "slideshow": {
     "slide_type": "slide"
    }
   },
   "source": [
    "<center>\n",
    "    <h4>Reddening estimate with Stroemgren photometry</h4>\n",
    "</center>\n",
    "\n",
    "From a sample of 250 nearby MS stars\n",
    "\n",
    "$$\n",
    "(b-y)_0 = 0.579 + 1.541(m_1)_0 - 1.066 (c_1)_0 - 2.965 (\\Delta\\beta) + 9.64 (\\Delta\\beta)^2 - 4.383 (m_1)_0\\Delta\\beta - 3.821 (m_1)_0 (c_1)_0 + 6.695 (c_1)_0 (\\Delta\\beta) + 7.763 (m_1)_0 (c_1)_0^2,\n",
    "$$\n",
    "\n",
    "where $\\Delta\\beta = 2.720 - \\beta$. \n",
    "\n",
    "Start with $(c_1)_0\\approx c_1$ and $(m_1)_0\\approx m_1$, calculate $(b-y)_0$, find $E(b-y) = (b-y) - (b-y)_0$,\n",
    "then use the relations $(c_1)_0 = c_1 - 0.20 E(b-y)$ and $(m_1)_0 = m_1 + 0.32 E(b-y)$, then iterate. Finally, $E(B-V) = 1.4 E(b-y)$."
   ]
  },
  {
   "cell_type": "markdown",
   "metadata": {
    "slideshow": {
     "slide_type": "slide"
    }
   },
   "source": [
    "<center>\n",
    "    <h4>Distance estimates: MS fitting method</h4>\n",
    "<img src=\"img/MSfitting.jpeg\", width=600>\n",
    "</center>"
   ]
  },
  {
   "cell_type": "markdown",
   "metadata": {
    "slideshow": {
     "slide_type": "slide"
    }
   },
   "source": [
    "<center>\n",
    "    <h4>Distance estimates: WD fitting method</h4>\n",
    "<img src=\"img/WDfitting.jpeg\", width=600>\n",
    "</center>"
   ]
  },
  {
   "cell_type": "markdown",
   "metadata": {
    "slideshow": {
     "slide_type": "slide"
    }
   },
   "source": [
    "<center>\n",
    "    <h4>Distance estimates: using the TRGB</h4>\n",
    "<img src=\"img/TRGB.jpeg\", width=600>\n",
    "</center>"
   ]
  }
 ],
 "metadata": {
  "anaconda-cloud": {},
  "celltoolbar": "Slideshow",
  "kernelspec": {
   "display_name": "Python 3",
   "language": "python",
   "name": "python3"
  },
  "language_info": {
   "codemirror_mode": {
    "name": "ipython",
    "version": 3
   },
   "file_extension": ".py",
   "mimetype": "text/x-python",
   "name": "python",
   "nbconvert_exporter": "python",
   "pygments_lexer": "ipython3",
   "version": "3.7.2"
  }
 },
 "nbformat": 4,
 "nbformat_minor": 1
}
