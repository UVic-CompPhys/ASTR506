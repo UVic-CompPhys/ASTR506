{
 "cells": [
  {
   "cell_type": "code",
   "execution_count": 1,
   "metadata": {
    "slideshow": {
     "slide_type": "skip"
    }
   },
   "outputs": [],
   "source": [
    "from IPython.display import Image, HTML, display"
   ]
  },
  {
   "cell_type": "markdown",
   "metadata": {
    "slideshow": {
     "slide_type": "slide"
    }
   },
   "source": [
    "<center> \n",
    "<h1> ASTR 506 </h1>\n",
    "<h2> Stellar Populations: Composite SPs </h2>\n",
    "</center>"
   ]
  },
  {
   "cell_type": "markdown",
   "metadata": {
    "slideshow": {
     "slide_type": "slide"
    }
   },
   "source": [
    "<center>\n",
    "    <h4>Resolved CSPs: CMD of stars in the solar neighbourhood</h4>\n",
    "<img src=\"img/HipparcosCMD.gif\", width=600>\n",
    "</center>"
   ]
  },
  {
   "cell_type": "markdown",
   "metadata": {
    "slideshow": {
     "slide_type": "slide"
    }
   },
   "source": [
    "<center>\n",
    "    <h4>Resolved CSPs: CMD of multiple populations in Omega Cen</h4>\n",
    "<img src=\"img/multiple_omegaCen.jpg\", width=600>\n",
    "</center>"
   ]
  },
  {
   "cell_type": "markdown",
   "metadata": {
    "slideshow": {
     "slide_type": "slide"
    }
   },
   "source": [
    "<center>\n",
    "    <h4>Unresolved CSPs: average bolometric luminosities at different evolutionary phases</h4>\n",
    "<img src=\"img/fig1.jpg\", width=600>\n",
    "</center>"
   ]
  },
  {
   "cell_type": "markdown",
   "metadata": {
    "slideshow": {
     "slide_type": "slide"
    }
   },
   "source": [
    "<center>\n",
    "    <h4>Unresolved CSPs: fuel consumption at different post-MS phases</h4>\n",
    "<img src=\"img/Fig2.5.jpg\", width=600>\n",
    "</center>"
   ]
  },
  {
   "cell_type": "markdown",
   "metadata": {
    "slideshow": {
     "slide_type": "slide"
    }
   },
   "source": [
    "<center>\n",
    "    <h4>Unresolved CSPs: average luminosities at different filters</h4>\n",
    "<img src=\"img/fig2.jpg\", width=600>\n",
    "</center>"
   ]
  },
  {
   "cell_type": "markdown",
   "metadata": {
    "slideshow": {
     "slide_type": "slide"
    }
   },
   "source": [
    "<center>\n",
    "    <h4>Unresolved CSPs: spectral evolution of a SSP</h4>\n",
    "<img src=\"img/Fig5.1.jpg\", width=600>\n",
    "</center>"
   ]
  },
  {
   "cell_type": "markdown",
   "metadata": {
    "slideshow": {
     "slide_type": "slide"
    }
   },
   "source": [
    "<center>\n",
    "    <h4>Unresolved CSPs: SEDs of a 1 Gyr old CSP with different SFRs</h4>\n",
    "<img src=\"img/Fig5.4.jpg\", width=600>\n",
    "</center>"
   ]
  },
  {
   "cell_type": "markdown",
   "metadata": {
    "slideshow": {
     "slide_type": "subslide"
    }
   },
   "source": [
    "<center>\n",
    "    <h4>Unresolved CSPs: spectral evolution of a CSP with a quenched SFR</h4>\n",
    "<img src=\"img/Fig5.10.jpg\", width=600>\n",
    "</center>"
   ]
  },
  {
   "cell_type": "markdown",
   "metadata": {
    "slideshow": {
     "slide_type": "subslide"
    }
   },
   "source": [
    "<center><h2>\n",
    "Modelling of galactic chemical evolution with NuPyCEE \n",
    "    </h2></center>\n",
    "    \n",
    "1). Go to the home webpage of NuPyCEE at http://nugrid.github.io/NuPyCEE/index.html\n",
    "\n",
    "2). Have a look at the Overview section and then read the NuPyCEE installation instructions\n",
    "in the Getting Started section.\n",
    "\n",
    "3). After downloading NuPyCEE with \"git clone\" command, go to its main directory and read README.md file.\n",
    "For your jupyter notebooks to find NuPyCEE modules, you will either have to update your Python path with the export command and then import the modules with the command \"from NuPyCEE import sygma\", etc. or to add the following set of commands at the beginning of your notebooks:\n",
    "<p>\n",
    "<h4>\n",
    "<br>import sys\n",
    "<br>sys.path.append('path_to_before_NuPyCEE')\n",
    "<br>from NuPyCEE import omega\n",
    "</h4>\n",
    "</p>\n",
    "4). You will probably need to run the script ./install_dependencies.sh in the NuPyCEE directory that will install on your computer the python modules used by NuPyCEE. \n",
    "\n",
    "5). Go to the DOC/GettingStarted subdirectory of NuPyCEE, start jupyter notebook and try SYGMA, OMEGA and Stellab Userguide notebooks to get familiar with the software.\n",
    "\n",
    "<h4>Question:</h4> what stars produce most of your assigned element?\n",
    "\n",
    "6). Finally, go to the subdirectory DOC/Teaching/OMEGA_notebook and use the notebook First_steps_OMEGA_3_fitting_a_galaxy.ipynb to solve your assignment problem (Si in sculptor, Ca in fornax, Mg in carina).\n"
   ]
  }
 ],
 "metadata": {
  "anaconda-cloud": {},
  "celltoolbar": "Slideshow",
  "kernelspec": {
   "display_name": "Python 3",
   "language": "python",
   "name": "python3"
  },
  "language_info": {
   "codemirror_mode": {
    "name": "ipython",
    "version": 3
   },
   "file_extension": ".py",
   "mimetype": "text/x-python",
   "name": "python",
   "nbconvert_exporter": "python",
   "pygments_lexer": "ipython3",
   "version": "3.7.2"
  }
 },
 "nbformat": 4,
 "nbformat_minor": 1
}
