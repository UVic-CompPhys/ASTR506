{
 "cells": [
  {
   "cell_type": "code",
   "execution_count": 1,
   "metadata": {
    "slideshow": {
     "slide_type": "skip"
    }
   },
   "outputs": [],
   "source": [
    "from IPython.display import Image, HTML, display"
   ]
  },
  {
   "cell_type": "markdown",
   "metadata": {
    "slideshow": {
     "slide_type": "slide"
    }
   },
   "source": [
    "<center> \n",
    "<h1> ASTR 506 </h1>\n",
    "<h2> Stellar Populations: Radiation </h2>\n",
    "</center>"
   ]
  },
  {
   "cell_type": "markdown",
   "metadata": {
    "slideshow": {
     "slide_type": "slide"
    }
   },
   "source": [
    "<center>\n",
    "<img src=\"img/RadPencil.jpeg\", width=1200>\n",
    "</center>"
   ]
  },
  {
   "cell_type": "markdown",
   "metadata": {
    "slideshow": {
     "slide_type": "slide"
    }
   },
   "source": [
    "The intensity of radiation $I_\\nu(t,\\mathbf{r},\\mathbf{n})$ is defined as follows: \n",
    "$$\n",
    "dE_\\nu(\\mathbf{n}) = I_\\nu d\\nu dAd\\Omega dt\n",
    "$$\n",
    "is the energy of radiation flowing through the surface area $dA$ in the direction of the unit vector $\\mathbf{n}$ perpendicular to $dA$ within the solid angle $d\\Omega$ about the vector $\\mathbf{n}$ during the time interval $dt$ and in the range of frequency $[\\nu,\\nu+d\\nu ]$.\n",
    "\n",
    "The flux of radiation through the fixed surface area $dA$ in the fixed direction $\\mathbf{n}$ is defined as the above energy integrated over the entire solid angle $4\\pi$. In this integration we have to vary the direction $\\mathbf{n}'$ of the intensity, i.e. now $I_\\nu = I_\\nu(t,\\mathbf{r},\\mathbf{n}')$, considering all possible angles $(\\theta,\\varphi)$ between the two unit vectors $\\mathbf{n}$ and $\\mathbf{n}'$ and taking into account that the projection of the fixed surface area $dA$ on a plane perpendicular to $\\mathbf{n}'$ is $dA\\cos\\theta$. As a result, the flux of radiation is equal to\n",
    "$$\n",
    "f_\\nu(t,\\mathbf{r},\\mathbf{n}) = \\frac{dE_\\nu(\\mathrm{from\\ all\\ }\\mathbf{n}')}{d\\nu dA dt} =\n",
    "\\int_0^{2\\pi}\\int_0^\\pi I_\\nu(t,\\mathbf{r},\\mathbf{n}')\\cos\\theta\\sin\\theta d\\theta d\\varphi.\n",
    "$$\n",
    "For isotropic radiation, such that $I_\\nu$ does not depend on $\\theta$ and $\\varphi$, the monochromatic, i.e. for a given frequency $\\nu$, flux of radiation into the upper hemisphere is equal to $f_\\nu = \\pi I_\\nu$, while the total flux into the upper and lower hemisphere is zero."
   ]
  },
  {
   "cell_type": "markdown",
   "metadata": {
    "slideshow": {
     "slide_type": "slide"
    }
   },
   "source": [
    "For the black-body (BB) radiation $I_\\nu = B_\\nu$, where\n",
    "$$\n",
    "B_\\nu = B_\\nu (T) = \\frac{2h\\nu^3}{c^2}\\frac{1}{e^{h\\nu /kT}-1}\n",
    "$$\n",
    "is the Planck function, and the monochromatic flux is $f_\\nu = \\pi B_\\nu$.\n",
    "\n",
    "The integrated BB radiation flux is\n",
    "$$\n",
    "f = \\int_0^{+\\infty}f_\\nu d\\nu = \\int_0^{+\\infty}\\pi B_\\nu d\\nu = \\sigma T^4,\n",
    "$$\n",
    "where $\\sigma = 5.67\\times 10^{-8}\\ \\mathrm{W\\,m}^{-2}\\mathrm{K}^{-4}$ is the Stephan-Boltzmann constant.\n",
    "The expression\n",
    "$$\n",
    "B_\\lambda = \\frac{2\\pi hc^2}{\\lambda^5}\\frac{1}{e^{hc/kT\\lambda}-1}\n",
    "$$\n",
    "for the Planck function can be obtained from the relationships $B_\\nu d\\nu = B_\\lambda d\\lambda$ and\n",
    "$\\nu = c/\\lambda$, where $\\lambda$ is the radiation wave length. $B_\\lambda$ has a maximum at \n",
    "$\\lambda = \\lambda_\\mathrm{max}$, where, according to Wien's displacement law,\n",
    "$$\n",
    "\\lambda_\\mathrm{max} = \\frac{2.898\\times 10^6\\ \\mathrm{nm\\,K}}{T}.\n",
    "$$"
   ]
  },
  {
   "cell_type": "markdown",
   "metadata": {
    "slideshow": {
     "slide_type": "slide"
    }
   },
   "source": [
    "**Absorption of radiation**\n",
    "\n",
    "When radiation passes a distance $ds$ through an absorbing medium its initial intensity $I_\\nu$ is reduced by $dI_\\nu = -\\alpha_\\nu I_\\nu ds < 0$, where $\\alpha_\\nu$ is called the absorption coefficient. If the medium has a density $\\rho$ then $\\varkappa_\\nu = \\alpha_\\nu/\\rho$ is called the opacity. From the definition of $\\alpha_\\nu$, we find how the intensity is reduced with the distance travelled by radiation\n",
    "$$\n",
    "I_\\nu(s) = I_\\nu(0) e^{-\\tau_\\nu (s)},\n",
    "$$\n",
    "where $\\tau_\\nu (s) = \\int_0^s\\alpha_\\nu ds$ is called the optical depth. When $\\tau_\\nu > 1$ then the medium is opaque for the radiation with the given $\\nu$. Photons with a frequency $\\nu$ can travel free, without interacting with the medium, only such a distance $s$ that $\\tau_\\nu (s) = 1$."
   ]
  },
  {
   "cell_type": "markdown",
   "metadata": {
    "slideshow": {
     "slide_type": "slide"
    }
   },
   "source": [
    "<center>\n",
    "<h4>The Weber-Fechner psychophysical law of human perception\n",
    "relates the actual change in a physical stimulus with the perceived change.</h4>\n",
    "<img src=\"img/WeberFechner.png\", width=600>\n",
    "</center>"
   ]
  },
  {
   "cell_type": "markdown",
   "metadata": {
    "slideshow": {
     "slide_type": "slide"
    }
   },
   "source": [
    "**Magnitudes and colors**\n",
    "\n",
    "The luminosity of a star is $L = 4\\pi R^2 \\sigma T_\\mathrm{eff}^4$ is the integrated flux through the entire surface of the star directed outside. However, usually only fluxes integrated over relatively narrow ranges of frequency are measured, e.g. by human eyes. For their comparison, say in photometric band A (for a range of frequency $[\\lambda_1,\\lambda_2]$) , astronomers use stellar magnitudes defined as\n",
    "$$\n",
    "m_A = -2.5\\log_{10}\\frac{\\int_{\\lambda_1}^{\\lambda_2}f_\\lambda S_\\lambda d\\lambda}{\\int_{\\lambda_1}^{\\lambda_2}f_\\lambda^0 S_\\lambda d\\lambda} + m_A^0,\n",
    "$$\n",
    "where $S_\\lambda$ is the response, or transmission function for the photometric band A, the upper index 0 indicated data for a reference (zero point) star, and the monochromatic fluxes $f_\\lambda$ and $f_\\lambda^0$ are assumed to be measured at the top of Earth's atmosphere.\n",
    "\n",
    "$f_A = \\int_{\\lambda_1}^{\\lambda_2}f_\\lambda S_\\lambda d\\lambda$ is the integrated flux measured in the photometric band A.\n",
    "\n",
    "From  ancient Greek observations, \n",
    "$$\n",
    "m_\\mathrm{visual}(1) - m_\\mathrm{visual}(6) = -5 = -2.5\\log_{10}\\frac{f_\\mathrm{visual}(1)}{f_\\mathrm{visual}(6)},\n",
    "$$\n",
    "where $f_\\mathrm{visual}(1)/f_\\mathrm{visual}(6) = 100.$ Therefore,\n",
    "$$\n",
    "\\frac{f_A(m_A)}{f_A(m_A +1)} = 100^\\frac{1}{5} = 10^\\frac{2}{5} = 10^{0.4} = 2.512.\n",
    "$$\n",
    "\n",
    "Colors are measured using the differences of magnitidues in different photometric bands, e.g.\n",
    "$m_A - m_B = (A-B)$ is the $A-B$ color or color index."
   ]
  },
  {
   "cell_type": "markdown",
   "metadata": {
    "slideshow": {
     "slide_type": "slide"
    }
   },
   "source": [
    "$m_A$ is the apparent magnitude that measures the apparent flux $f_\\lambda = \\left(\\frac{R}{d}\\right)^2F_\\lambda$ integrated over the wave-length range $[\\lambda_1,\\lambda_2]$ of the photometric band $A$ in which its transmission function $S_\\lambda\\neq 0$. Here, $R$ is the radius of a star, $d$ is a distance to it, and it is assumed that there is no absorption of radiation.\n",
    "\n",
    "To compare stars by their magnitudes they are \"placed\" at the same distance of $d = 10$ parsec (pc), where\n",
    "1 pc is the distance from which 1 astronomical unit, 1AU$\\,\\approx 1.496\\times 10^{11}$ m  (the approximate distance from Earth to the Sun), subtends an angle of 1 second (parsec = parallax of one second).\n",
    "\n",
    "1 pc$\\,=206265\\ \\mathrm{AU}=3.09\\times 10^{16}\\ \\mathrm{m}=3.26\\ $ light years.\n",
    "\n",
    "Obviously, $d_\\mathrm{pc} = \\frac{1}{\\pi''}$, where $\\pi''$ is star's paralax (the semi-major axis of the ellipse\n",
    "the star describes on the sky during one year), e.g. see https://www.esa.int/Science_Exploration/Space_Science/Gaia.\n",
    "\n",
    "The magnitude of a star \"placed\" at 10 pc is called its absolute magnitude $M_A$, and because $f_\\lambda(d_\\mathrm{pc}) = \\left(\\frac{10\\,\\mathrm{pc}}{d_\\mathrm{pc}}\\right)^2f_\\lambda (10\\,\\mathrm{pc})$,\n",
    "$$\n",
    "M_A = m_A - 5\\log_{10}d_\\mathrm{pc} + 5.\n",
    "$$\n",
    "\n",
    "$m_A- M_A = (m-M)_A$ is called the distance modulus. If it's known then $d_\\mathrm{pc} = 10^{1+0.2(m_A-M_A)}$.\n",
    "\n",
    "Given that $f_\\lambda = \\left(\\frac{R}{d}\\right)^2F_\\lambda$ and $M_A = m_A(d=10\\,\\mathrm{pc})$, from the definition of the stellar magnitude we find that\n",
    "\n",
    "$$\n",
    "M_A = -2.5\\log_{10}\\left[\\frac{\\int_{\\lambda_1}^{\\lambda_2}F_\\lambda S_\\lambda d\\lambda}{\\int_{\\lambda_1}^{\\lambda_2}f_\\lambda^0 S_\\lambda d\\lambda}\\left(\\frac{R}{10\\,\\mathrm{pc}}\\right)^2\\right] + m_A^0.\n",
    "$$\n",
    "**Note** that the nominator uses the surface flux of the star $F_\\lambda$, and that the same definitions are also true for the Sun!"
   ]
  },
  {
   "cell_type": "markdown",
   "metadata": {
    "slideshow": {
     "slide_type": "slide"
    }
   },
   "source": [
    "If $\\lambda_1 = 0$, $\\lambda_2 = +\\infty$, and $S_\\lambda = 1$ we get the so-called bolometric magnitude. Then, subtracting the solar bolometric absolute magnitude $M_\\mathrm{bol}^\\odot = 4.75$ from $M_\\mathrm{bol}$ of a star, we find that\n",
    "$$\n",
    "M_\\mathrm{bol} = M_\\mathrm{bol}^\\odot - 2.5\\log_{10}\\frac{L}{L_\\odot},\n",
    "$$\n",
    "because $R^2\\int_0^{+\\infty}F_\\lambda d\\lambda = R^2 F = R^2\\sigma T_\\mathrm{eff}^4 =\\frac{L}{4\\pi}$.\n",
    "Thus, the bolometric absolute magnitude of a star automatically gives its luminosity.\n",
    "$M_\\mathrm{bol}$ of a star can be found from its absolute magnitude in a photometric band $A$, the latter needs knowing the distance to the star, if we know the so-called bolometric correction\n",
    "\n",
    "$$\n",
    "BC_A = M_\\mathrm{bol} - M_A = M_\\mathrm{bol}^\\odot - 2.5\\log_{10}\\frac{L}{L_\\odot} - M_A = \\\\\n",
    "4.75 - 2.5\\log_{10}\\frac{L}{L_\\odot} - \\left\\{-2.5\\log_{10}\\left[\\frac{\\int_{\\lambda_1}^{\\lambda_2}F_\\lambda S_\\lambda d\\lambda}{\\int_{\\lambda_1}^{\\lambda_2}f_\\lambda^0 S_\\lambda d\\lambda}\\left(\\frac{R}{10\\,\\mathrm{pc}}\\right)^2\\right] + m_A^0\\right\\} = \\\\\n",
    "4.75 - 2.5\\log_{10}\\left[\\frac{4\\pi (10\\,\\mathrm{pc})^2\\sigma T_\\mathrm{eff}^4}{L_\\odot}\\right] +\n",
    "2.5\\log_{10}\\left[\\frac{\\int_{\\lambda_1}^{\\lambda_2}F_\\lambda S_\\lambda d\\lambda}{\\int_{\\lambda_1}^{\\lambda_2}f_\\lambda^0 S_\\lambda d\\lambda}\\right] - m_A^0.\n",
    "$$\n",
    "\n",
    "Given that the monochromatic flux (spectrum) of the star $F_\\lambda = F_\\lambda (T_\\mathrm{eff},g,X_i)$ can be provided either by stellar model atmospheres or by observations of stars with well known distances, the bolometric corrections depend on $T_\\mathrm{eff}$, $g=(GM/R^2)$, $X_i$, $f_\\lambda^0$, $m_A^0$ and $S_\\lambda$."
   ]
  },
  {
   "cell_type": "markdown",
   "metadata": {
    "slideshow": {
     "slide_type": "slide"
    }
   },
   "source": [
    "A photometric system is determined by its selected photometric bands with wave-length ranges $[\\lambda_1,\\lambda_2]$ and their corresponding transmission functions $S_\\lambda$, and with \"zero\" points $f_\\lambda^0$ and $m_A^0$.\n",
    "\n",
    "In both the popular Johnson-Cousins **UBVRI (JHKLMN)** and HST/WFPC2 VEGA mag systems the star Vega ($\\alpha$ Lyrae) is used for the zero points. In the Johnson-Cousins system, Vega is assigned $m_V = 0$, and all $m_A - m_B = 0$ as well. In the HST system, Vega also has $m_V =0$, but some colors have slightly different values.\n",
    "\n",
    "$f_\\lambda^0$ for Vega is taken from its model atmosphere, $F_\\lambda(\\mathrm{Vega})$ for $T_\\mathrm{eff} = 9550$ K,\n",
    "$\\log_{10}g = 3.95$ (here, $g$ in $\\mathrm{cm\\,s}^{-2}$), and [Fe/H]$\\,=-0.5$, where\n",
    "$$\n",
    "[\\mathrm{A/B}] = \\log_{10}\\frac{n_\\mathrm{A}}{n_\\mathrm{B}} - \n",
    "\\log_{10}\\left(\\frac{n_\\mathrm{A}}{n_\\mathrm{B}}\\right)_\\odot = \\log_{10}\\frac{X_\\mathrm{A}}{X_\\mathrm{B}} - \n",
    "\\log_{10}\\left(\\frac{X_\\mathrm{A}}{X_\\mathrm{B}}\\right)_\\odot,\n",
    "$$\n",
    "so that $[\\mathrm{Fe/H}]_\\odot = 0$.\n",
    "\n",
    "From the measurement of the ratio $\\frac{f_\\lambda^0}{F_\\lambda^0} = \\left(\\frac{R}{d}\\right)^2$ for Vega at\n",
    "$\\lambda = 555.6$ nm, it is estimated that $ \\left(\\frac{R}{d}\\right)^2 = 6.247\\times 10^{-17}$ for it."
   ]
  },
  {
   "cell_type": "markdown",
   "metadata": {
    "slideshow": {
     "slide_type": "slide"
    }
   },
   "source": [
    "**The effect of interstellar extinction**\n",
    "\n",
    "The monochromatic flux at the top of Earth's atmosphere is $f_\\lambda = \\pi I_\\lambda = f_{\\lambda,0}e^{-\\tau_\\lambda},$ where for the Milky-Way (MW) interstellar medium (ISM) $\\tau_\\lambda\\propto \\frac{1}{\\lambda}$ in the optical part of the spectrum. Therefore, $m_A = m_{A,0} + A_A,$ where $A_A$ is called extinction, or attenuation.\n",
    "For Vega, $A_A = 0$ in all photometric bands. The interstellar extinction is produced by the absorption and scattering of radiation by gas and dust particles that present in the ISM. It affects both stellra magnitudes and colors. Indeed, for a color index\n",
    "$$\n",
    "(A-B) = m_A - m_B = (m_{A,0} - m_{B,0}) + (A_A - A_B) = (A-B)_0 + E(A-B),\n",
    "$$\n",
    "where $(A-B)_0$ is the true color, $(A-B)$ is the apparent color, and $E(A-B)$ is called the color excess, or reddening. The interstellar extinction shifts the true color toward redder apparent colors.\n",
    "\n",
    "In the Johnson-Cousins system, for the MW galaxy, the good approximations are provided by the following extinction law:\n",
    "\n",
    "$$\n",
    "A_U = 1.53\\,A_V,\\ A_B = 1.32\\,AV,\\ A_R = 0.82\\,A_V,\\ A_I = 0.60\\,A_V, \\\\\n",
    "A_J = 0.29\\,A_V,\\ A_H = 0.17\\,A_V,\\ A_K = 0.11\\,A_V,\\ A_L = 0.06\\,A_V.\n",
    "$$\n",
    "\n",
    "If we introduce the ratio $R_V = \\frac{A_V}{E(B-V)} =\\frac{A_V}{A_B - A_V} = \\frac{1}{(A_B/A_V)-1} = \\frac{1}{0.32} = 3.12,$ then $A_V = R_V\\,E(B-V) = 3.12\\,E(B-V)$ for the MW galaxy. In practice, $E(B-V)$ is usually determined empirically, then we can find $A_V$ and other extinctions.\n",
    "\n",
    "For a detailed 3D extinction map of the MW galaxy, see http://argonaut.skymaps.info."
   ]
  },
  {
   "cell_type": "markdown",
   "metadata": {
    "slideshow": {
     "slide_type": "slide"
    }
   },
   "source": [
    "<center>\n",
    "<h4>The reddening vector $\\tan\\alpha = E(U-B)/E(B-V)=0.66$</h4>\n",
    "<img src=\"img/ReddeningVector.png\", width=900>\n",
    "<h4>De Silva, G., et al., 2015, MNRAS, 453, 106 (OC Trumler 22)</h4>\n",
    "</center>"
   ]
  },
  {
   "cell_type": "markdown",
   "metadata": {
    "slideshow": {
     "slide_type": "slide"
    }
   },
   "source": [
    "<center>\n",
    "<img src=\"img/K4VandUBVRI.png\", width=1000>\n",
    "</center>"
   ]
  },
  {
   "cell_type": "markdown",
   "metadata": {
    "slideshow": {
     "slide_type": "slide"
    }
   },
   "source": [
    "<center>\n",
    "<img src=\"img/K4Vspectrum.png\", width=800>\n",
    "</center>\n",
    "<center>\n",
    "<img src=\"img/K4Vtheory.png\", width=800>\n",
    "</center>"
   ]
  },
  {
   "cell_type": "markdown",
   "metadata": {
    "slideshow": {
     "slide_type": "slide"
    }
   },
   "source": [
    "<center>\n",
    "<img src=\"img/K4Vspectrum.png\", width=800>\n",
    "</center>\n",
    "<center>\n",
    "<img src=\"img/A13Vspectrum.png\", width=800>\n",
    "</center>"
   ]
  },
  {
   "cell_type": "markdown",
   "metadata": {
    "collapsed": true,
    "slideshow": {
     "slide_type": "slide"
    }
   },
   "source": [
    "**The main relationships between stellar parameters**\n",
    "\n",
    "The stellar parameters are $M$, $R$, $L$, $T_\\mathrm{eff}$, $X_i$, and $t$.\n",
    "\n",
    "A star is born with some initial mass $M_0 = M(t=0)$ and initial chemical composition $X_i(0)$.\n",
    "In a simple stellar population, e.g. in an open cluster, all stars were by definition born at a same time $t=0$, with\n",
    "a same initial composition, but with different initial masses described by the so-called initial mass function (IMF), e.g. $n(M_0)dM_0 = C M_0^{-2.35}dM_0$ (the Salpeter IMF).\n",
    "\n",
    "When stars in a simple stellar population evolve, i.e. at $t>0$, their parameters $L = L(M_0,t)$, $T_\\mathrm{eff} = T_\\mathrm{eff}(M_0,t)$, and $M=M(M_0,t)$ are all changing with its age $t$.\n",
    "\n",
    "If we fix the age $t$ and exclude it from these functions, we will get the so-called isochrone of the stellar population, $L = L(T_\\mathrm{eff}(M(M_0,t),t)) = L(T_\\mathrm{eff})$. We can also get the mass-luminosity relationship $L=L(M)$ for stars that are all in a same and relatively long evolutionary phase, e.g. for main-sequence (MS) stars that are burning hydrogen in their cores.\n",
    "\n",
    "A color-magnitude diagram (CMD) of stars differs from their corresponding Hertzsprung-Russel diagram (HRD) by $T_\\mathrm{eff}$ and $L$ in the HRD replaced by a color and a magnitude in the CMD, respectively."
   ]
  },
  {
   "cell_type": "code",
   "execution_count": 2,
   "metadata": {
    "slideshow": {
     "slide_type": "slide"
    }
   },
   "outputs": [
    {
     "name": "stdout",
     "output_type": "stream",
     "text": [
      "In SI units:\n",
      "\n",
      "Msun = 1.9884754153381438e+30\n",
      "Rsun = 695700000.0\n",
      "Lsun = 3.828e+26\n",
      "Newton's G = 6.67408e-11\n",
      "Stefan-Boltzmann constant = 5.670367e-08\n",
      "\n",
      "Newtons gravitational constant, Stefan-Boltzmann sigma, and solar radius and mass in cgs units:\n",
      " \n",
      "G = 6.67408e-08 \n",
      "sigma = 5.6703669999999995e-05 \n",
      "Rsun = 69570000000.0 \n",
      "Msun = 1.9884754153381438e+33 \n",
      "Lsun = 3.828e+33\n"
     ]
    }
   ],
   "source": [
    "# astronomical and physical constants in SI and sgs units\n",
    "from astropy import constants as const\n",
    "from astropy import units as u\n",
    "\n",
    "Msun = (const.M_sun).value\n",
    "Rsun = (const.R_sun).value\n",
    "Lsun = (const.L_sun).value\n",
    "GN = (const.G).value  # Newton's constant \n",
    "sigma = (const.sigma_sb).value  # 1e3 tarnsforms SI units to sgs units\n",
    "print ('In SI units:\\n')\n",
    "print ('Msun =',Msun)\n",
    "print ('Rsun =',Rsun)\n",
    "print ('Lsun =',Lsun)\n",
    "print (\"Newton's G =\",GN)\n",
    "print (\"Stefan-Boltzmann constant =\",sigma)\n",
    "\n",
    "# transform to sgs units\n",
    "GN = 1e3*GN\n",
    "sigma = 1e3*sigma\n",
    "Rsun = 1e2*Rsun\n",
    "Msun = 1e3*Msun\n",
    "Lsun = 1e7*Lsun\n",
    "\n",
    "print ('\\nNewton''s gravitational constant, Stefan-Boltzmann sigma, and solar radius and mass in cgs units:\\n',\\\n",
    "       '\\nG =',GN,'\\nsigma =',sigma,'\\nRsun =',Rsun,'\\nMsun =',Msun,'\\nLsun =',Lsun)"
   ]
  }
 ],
 "metadata": {
  "anaconda-cloud": {},
  "celltoolbar": "Slideshow",
  "kernelspec": {
   "display_name": "Python 3",
   "language": "python",
   "name": "python3"
  },
  "language_info": {
   "codemirror_mode": {
    "name": "ipython",
    "version": 3
   },
   "file_extension": ".py",
   "mimetype": "text/x-python",
   "name": "python",
   "nbconvert_exporter": "python",
   "pygments_lexer": "ipython3",
   "version": "3.7.2"
  }
 },
 "nbformat": 4,
 "nbformat_minor": 1
}
