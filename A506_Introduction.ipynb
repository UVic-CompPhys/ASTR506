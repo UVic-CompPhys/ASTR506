{
 "cells": [
  {
   "cell_type": "code",
   "execution_count": 1,
   "metadata": {
    "collapsed": true,
    "slideshow": {
     "slide_type": "skip"
    }
   },
   "outputs": [],
   "source": [
    "from IPython.display import Image, HTML, display"
   ]
  },
  {
   "cell_type": "markdown",
   "metadata": {
    "slideshow": {
     "slide_type": "slide"
    }
   },
   "source": [
    "<center> \n",
    "<h1> ASTR 506 </h1>\n",
    "<h2> Stellar Populations </h2>\n",
    "</center>"
   ]
  },
  {
   "cell_type": "markdown",
   "metadata": {
    "slideshow": {
     "slide_type": "slide"
    }
   },
   "source": [
    "<h4><center>Definitions of Stellar Populations (SPs)</center></h4>\n",
    "\n",
    "\n",
    "<font size=\"3\">A stellar population (SP) is a group of stars selected for a study of their common properties, such as their distance, age, chemical composition, star formation rate and history, etc.</font>\n",
    "\n",
    "<font size=\"3\">A simple SP (SSP) is a sample of stars with same age and initial chemical composition.</font>\n",
    "\n",
    "<font size=\"3\">A composite SP (CSP) consists of a number of SSPs with different ages and initial chemical compositions.</font>\n",
    "\n",
    "<font size=\"3\">A SP is said to be resolved if light from its individual stars can be analyzed.</font>\n",
    "\n",
    "<font size=\"3\">A SP is said to be unresolved if only combined light from all of its stars can be analyzed.</font>\n",
    "\n",
    "| Type | Resolved | Unresolved |\n",
    "|-------------- | ------------- | ------------ |\n",
    "| SSPs | Galactic open clusters (OCs) and some globular clusters (GCs)  | OCs and GCs in distant galaxies |\n",
    "| CSPs | solar neighbourhood, most of GGCs, dwarf spheroidal galaxies, Galactic buldge |distant galaxies | "
   ]
  },
  {
   "cell_type": "markdown",
   "metadata": {
    "slideshow": {
     "slide_type": "slide"
    }
   },
   "source": [
    "<center>\n",
    "<h4>Stars in the solar neighbourhood (a resolved CSP)</h4>    \n",
    "<img src=\"img/250lys.gif\", width=600>\n",
    "</center>"
   ]
  },
  {
   "cell_type": "markdown",
   "metadata": {
    "slideshow": {
     "slide_type": "slide"
    }
   },
   "source": [
    "<center>\n",
    "<h4>The Galactic open cluster M67 (a resolved SSP)</h4>\n",
    "<img src=\"img/m67.jpg\", width=800>\n",
    "</center>"
   ]
  },
  {
   "cell_type": "markdown",
   "metadata": {
    "slideshow": {
     "slide_type": "slide"
    }
   },
   "source": [
    "<center>\n",
    "<h4>The Galactic globular cluster M13 (a resolved CSP)</h4>\n",
    "<img src=\"img/M13.jpg\", width=600>\n",
    "</center>"
   ]
  },
  {
   "cell_type": "markdown",
   "metadata": {
    "slideshow": {
     "slide_type": "slide"
    }
   },
   "source": [
    "<center>\n",
    "<h4>Large and Small Magellanic Clouds (resolved CSPs)</h4>    \n",
    "<img src=\"img/MCs.jpg\", width=800>\n",
    "</center>"
   ]
  },
  {
   "cell_type": "markdown",
   "metadata": {
    "slideshow": {
     "slide_type": "slide"
    }
   },
   "source": [
    "<center>\n",
    "<h4>M31 (Andromeda) galaxy (resolved CSPs)</h4>    \n",
    "<img src=\"img/M31.jpg\", width=600>\n",
    "</center>"
   ]
  },
  {
   "cell_type": "markdown",
   "metadata": {
    "slideshow": {
     "slide_type": "slide"
    }
   },
   "source": [
    "<center>\n",
    "<h4>The dwarf irregular galaxy UGC9128 of the local group (resolved CSPs)</h4>    \n",
    "<img src=\"img/UGC9128_LG.jpg\", width=600>\n",
    "</center>"
   ]
  },
  {
   "cell_type": "markdown",
   "metadata": {
    "slideshow": {
     "slide_type": "slide"
    }
   },
   "source": [
    "<center>\n",
    "<h4>Distant (old) galaxies (unresolved CSPs)</h4>    \n",
    "<img src=\"img/HUDF.jpg\", width=800>\n",
    "</center>"
   ]
  },
  {
   "cell_type": "markdown",
   "metadata": {
    "slideshow": {
     "slide_type": "slide"
    }
   },
   "source": [
    "<center>\n",
    "<h4>A resolved SP can be studied using its Hertzsprung-Russel or Colour-Magnitude diagram (HRD or CMD)</h4>    \n",
    "<img src=\"img/M13HRD.jpg\", width=800>\n",
    "</center>"
   ]
  },
  {
   "cell_type": "markdown",
   "metadata": {
    "slideshow": {
     "slide_type": "slide"
    }
   },
   "source": [
    "<center>\n",
    "<h4>and stellar evolution tracks</h4>    \n",
    "<img src=\"img/intmass.jpg\", width=600>\n",
    "</center>"
   ]
  },
  {
   "cell_type": "markdown",
   "metadata": {
    "slideshow": {
     "slide_type": "slide"
    }
   },
   "source": [
    "<center>\n",
    "<h4>A spectral energy distribution (SED) is used to study an unresolved SP \n",
    "    (B. Groves and O. Krause, 2011)</h4>    \n",
    "<img src=\"img/M31SED.png\", width=1000>\n",
    "</center>"
   ]
  }
 ],
 "metadata": {
  "anaconda-cloud": {},
  "celltoolbar": "Slideshow",
  "kernelspec": {
   "display_name": "Python 3",
   "language": "python",
   "name": "python3"
  },
  "language_info": {
   "codemirror_mode": {
    "name": "ipython",
    "version": 3
   },
   "file_extension": ".py",
   "mimetype": "text/x-python",
   "name": "python",
   "nbconvert_exporter": "python",
   "pygments_lexer": "ipython3",
   "version": "3.7.2"
  }
 },
 "nbformat": 4,
 "nbformat_minor": 1
}
