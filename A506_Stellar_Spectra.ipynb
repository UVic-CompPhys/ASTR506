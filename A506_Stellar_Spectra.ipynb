{
 "cells": [
  {
   "cell_type": "code",
   "execution_count": 1,
   "metadata": {
    "slideshow": {
     "slide_type": "skip"
    }
   },
   "outputs": [],
   "source": [
    "from IPython.display import Image, HTML, display"
   ]
  },
  {
   "cell_type": "markdown",
   "metadata": {
    "slideshow": {
     "slide_type": "slide"
    }
   },
   "source": [
    "<center> \n",
    "<h1> ASTR 506 </h1>\n",
    "<h2> Stellar Populations: Stellar Spectra </h2>\n",
    "</center>"
   ]
  },
  {
   "cell_type": "markdown",
   "metadata": {
    "slideshow": {
     "slide_type": "slide"
    }
   },
   "source": [
    "<center>    \n",
    "<img src=\"img/RadPencil.jpeg\", width=600>\n",
    "</center>"
   ]
  },
  {
   "cell_type": "markdown",
   "metadata": {
    "slideshow": {
     "slide_type": "slide"
    }
   },
   "source": [
    "<center>\n",
    "<img src=\"img/K4Vspectrum.png\", width=800>\n",
    "</center>\n",
    "<center>\n",
    "<img src=\"img/K4Vtheory.png\", width=800>\n",
    "</center>"
   ]
  },
  {
   "cell_type": "markdown",
   "metadata": {
    "slideshow": {
     "slide_type": "slide"
    }
   },
   "source": [
    "<center>\n",
    "<img src=\"img/K4Vspectrum.png\", width=800>\n",
    "</center>\n",
    "<center>\n",
    "<img src=\"img/A13Vspectrum.png\", width=800>\n",
    "</center>"
   ]
  },
  {
   "cell_type": "markdown",
   "metadata": {
    "slideshow": {
     "slide_type": "slide"
    }
   },
   "source": [
    "<center>\n",
    "<img src=\"img/K4VandUBVRI.png\", width=1000>\n",
    "</center>\n",
    "\n"
   ]
  },
  {
   "cell_type": "markdown",
   "metadata": {
    "slideshow": {
     "slide_type": "slide"
    }
   },
   "source": [
    "A magnitude of a star $m_\\mathrm{A}$ in a photometric band A is defined by the response, or transmission, function $S_\\lambda$ of its corresponding filter and photometric parameters of a reference star $f^0_\\lambda$ and $m^0_\\mathrm{A}$\n",
    "\n",
    "$$\n",
    "m_\\mathrm{A} \\equiv -2.5\\log_{10}\\frac{\\int_{\\lambda_1}^{\\lambda_2}f_\\lambda S_\\lambda d\\lambda}{\n",
    "\\int_{\\lambda_1}^{\\lambda_2}f^0_\\lambda S_\\lambda d\\lambda} + m^0_\\mathrm{A},\n",
    "$$\n",
    "\n",
    "where both $f_\\lambda$ and $f^0_\\lambda$ are measured at the top of Earth's atmosphere.\n",
    "\n",
    "An efficient wavelength of a given band A is\n",
    "\n",
    "$$\n",
    "\\lambda_\\mathrm{eff} \\equiv \\frac{\\int_{\\lambda_1}^{\\lambda_2}\\lambda f_\\lambda S_\\lambda d\\lambda}{\n",
    "\\int_{\\lambda_1}^{\\lambda_2}f_\\lambda S_\\lambda d\\lambda},\n",
    "$$\n",
    "\n",
    "where we can take $f_\\lambda = f_{\\lambda}^{\\odot}$.\n",
    "\n",
    "A color (A-B) is defined as the difference of the corresponding magnitudes, i.e. $(\\mathrm{A}-\\mathrm{B}) \\equiv m_\\mathrm{A}-m_\\mathrm{B}$."
   ]
  }
 ],
 "metadata": {
  "anaconda-cloud": {},
  "celltoolbar": "Slideshow",
  "kernelspec": {
   "display_name": "Python 3",
   "language": "python",
   "name": "python3"
  },
  "language_info": {
   "codemirror_mode": {
    "name": "ipython",
    "version": 3
   },
   "file_extension": ".py",
   "mimetype": "text/x-python",
   "name": "python",
   "nbconvert_exporter": "python",
   "pygments_lexer": "ipython3",
   "version": "3.7.2"
  }
 },
 "nbformat": 4,
 "nbformat_minor": 1
}
